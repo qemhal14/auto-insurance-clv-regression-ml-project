{
 "cells": [
  {
   "cell_type": "code",
   "execution_count": 1,
   "metadata": {},
   "outputs": [],
   "source": [
    "## imporrt libarary \n",
    "import os\n",
    "import pandas as pd\n",
    "import numpy as np\n",
    "\n",
    "#import google cloud library\n",
    "from google.cloud import bigquery\n",
    "from google.cloud import storage\n",
    "from google.cloud import aiplatform\n",
    "\n",
    "## sklearn module\n",
    "from sklearn.linear_model import LogisticRegression \n",
    "from sklearn.model_selection import train_test_split\n",
    "from sklearn.metrics import classification_report\n",
    "from sklearn.preprocessing import LabelEncoder\n",
    "import pickle\n"
   ]
  },
  {
   "cell_type": "code",
   "execution_count": 2,
   "metadata": {},
   "outputs": [],
   "source": [
    "## set up authentication using services account \n",
    "# Authenticate using service account\n",
    "os.environ['GOOGLE_APPLICATION_CREDENTIALS'] = \"../qemhal-012/sa-development.json\"\n",
    "# os.environ['GOOGLE_APPLICATION_CREDENTIALS'] = \"../qemhal-012/dti-ds-31329ac0651d.json\""
   ]
  },
  {
   "cell_type": "code",
   "execution_count": 3,
   "metadata": {},
   "outputs": [],
   "source": [
    "project_id = 'dti-ds'\n",
    "dataset_id = 'qemhal_dataset_012'\n",
    "table_id = 'clv_test'\n",
    "region = 'us-central1'\n",
    "bucket_name = 'qemhal_gcs_012'\n",
    "blob_name = 'data/---.csv'\n",
    "model_name = 'gb_model_final.pkl'"
   ]
  },
  {
   "cell_type": "markdown",
   "metadata": {},
   "source": [
    "# Load and Data Preparation"
   ]
  },
  {
   "cell_type": "code",
   "execution_count": 4,
   "metadata": {},
   "outputs": [
    {
     "name": "stderr",
     "output_type": "stream",
     "text": [
      "/home/qemhal_h/miniconda3/envs/clv-reg-env/lib/python3.11/site-packages/google/cloud/bigquery/table.py:1727: UserWarning: BigQuery Storage module not found, fetch data with the REST endpoint instead.\n",
      "  warnings.warn(\n"
     ]
    },
    {
     "data": {
      "text/html": [
       "<div>\n",
       "<style scoped>\n",
       "    .dataframe tbody tr th:only-of-type {\n",
       "        vertical-align: middle;\n",
       "    }\n",
       "\n",
       "    .dataframe tbody tr th {\n",
       "        vertical-align: top;\n",
       "    }\n",
       "\n",
       "    .dataframe thead th {\n",
       "        text-align: right;\n",
       "    }\n",
       "</style>\n",
       "<table border=\"1\" class=\"dataframe\">\n",
       "  <thead>\n",
       "    <tr style=\"text-align: right;\">\n",
       "      <th></th>\n",
       "      <th>vehicle_class</th>\n",
       "      <th>coverage</th>\n",
       "      <th>renew_offer_type</th>\n",
       "      <th>employmentstatus</th>\n",
       "      <th>marital_status</th>\n",
       "      <th>education</th>\n",
       "      <th>number_of_policies</th>\n",
       "      <th>monthly_premium_auto</th>\n",
       "      <th>total_claim_amount</th>\n",
       "      <th>income</th>\n",
       "    </tr>\n",
       "  </thead>\n",
       "  <tbody>\n",
       "    <tr>\n",
       "      <th>0</th>\n",
       "      <td>Four-Door Car</td>\n",
       "      <td>Extended</td>\n",
       "      <td>Offer1</td>\n",
       "      <td>Retired</td>\n",
       "      <td>Divorced</td>\n",
       "      <td>College</td>\n",
       "      <td>8.0</td>\n",
       "      <td>76.0</td>\n",
       "      <td>364.8</td>\n",
       "      <td>26952.0</td>\n",
       "    </tr>\n",
       "    <tr>\n",
       "      <th>1</th>\n",
       "      <td>Two-Door Car</td>\n",
       "      <td>Extended</td>\n",
       "      <td>Offer1</td>\n",
       "      <td>Retired</td>\n",
       "      <td>Divorced</td>\n",
       "      <td>College</td>\n",
       "      <td>8.0</td>\n",
       "      <td>84.0</td>\n",
       "      <td>403.2</td>\n",
       "      <td>13688.0</td>\n",
       "    </tr>\n",
       "    <tr>\n",
       "      <th>2</th>\n",
       "      <td>Four-Door Car</td>\n",
       "      <td>Extended</td>\n",
       "      <td>Offer1</td>\n",
       "      <td>Retired</td>\n",
       "      <td>Divorced</td>\n",
       "      <td>High School or Below</td>\n",
       "      <td>4.0</td>\n",
       "      <td>84.0</td>\n",
       "      <td>604.8</td>\n",
       "      <td>12201.0</td>\n",
       "    </tr>\n",
       "    <tr>\n",
       "      <th>3</th>\n",
       "      <td>Four-Door Car</td>\n",
       "      <td>Extended</td>\n",
       "      <td>Offer1</td>\n",
       "      <td>Retired</td>\n",
       "      <td>Married</td>\n",
       "      <td>College</td>\n",
       "      <td>5.0</td>\n",
       "      <td>96.0</td>\n",
       "      <td>460.8</td>\n",
       "      <td>23091.0</td>\n",
       "    </tr>\n",
       "    <tr>\n",
       "      <th>4</th>\n",
       "      <td>Four-Door Car</td>\n",
       "      <td>Extended</td>\n",
       "      <td>Offer1</td>\n",
       "      <td>Retired</td>\n",
       "      <td>Single</td>\n",
       "      <td>Bachelor</td>\n",
       "      <td>2.0</td>\n",
       "      <td>96.0</td>\n",
       "      <td>460.8</td>\n",
       "      <td>16794.0</td>\n",
       "    </tr>\n",
       "  </tbody>\n",
       "</table>\n",
       "</div>"
      ],
      "text/plain": [
       "   vehicle_class  coverage renew_offer_type employmentstatus marital_status  \\\n",
       "0  Four-Door Car  Extended           Offer1          Retired       Divorced   \n",
       "1   Two-Door Car  Extended           Offer1          Retired       Divorced   \n",
       "2  Four-Door Car  Extended           Offer1          Retired       Divorced   \n",
       "3  Four-Door Car  Extended           Offer1          Retired        Married   \n",
       "4  Four-Door Car  Extended           Offer1          Retired         Single   \n",
       "\n",
       "              education  number_of_policies  monthly_premium_auto  \\\n",
       "0               College                 8.0                  76.0   \n",
       "1               College                 8.0                  84.0   \n",
       "2  High School or Below                 4.0                  84.0   \n",
       "3               College                 5.0                  96.0   \n",
       "4              Bachelor                 2.0                  96.0   \n",
       "\n",
       "   total_claim_amount   income  \n",
       "0               364.8  26952.0  \n",
       "1               403.2  13688.0  \n",
       "2               604.8  12201.0  \n",
       "3               460.8  23091.0  \n",
       "4               460.8  16794.0  "
      ]
     },
     "execution_count": 4,
     "metadata": {},
     "output_type": "execute_result"
    }
   ],
   "source": [
    "#load data from BQ\n",
    "## using bigquery client \n",
    "client = bigquery.Client(project=project_id)\n",
    "\n",
    "# query \n",
    "query_job = client.query(f\"\"\"select * from {dataset_id}.{table_id}\"\"\")\n",
    "clv_test = query_job.result().to_dataframe()\n",
    "\n",
    "clv_test.head()\n"
   ]
  },
  {
   "cell_type": "code",
   "execution_count": 5,
   "metadata": {},
   "outputs": [
    {
     "name": "stdout",
     "output_type": "stream",
     "text": [
      "Read model successful\n"
     ]
    }
   ],
   "source": [
    "# Load model\n",
    "try:\n",
    "    storage_client = storage.Client(project=project_id)\n",
    "    bucket = storage_client.get_bucket(bucket_name)\n",
    "    blob_model = bucket.blob(f\"data/{model_name}\")\n",
    "    blob_model.download_to_filename(\"gb_model_final.pkl\")\n",
    "\n",
    "    print(\"Read model successful\")\n",
    "except:\n",
    "    raise TypeError(\"An exeption occurred\")"
   ]
  },
  {
   "cell_type": "markdown",
   "metadata": {},
   "source": [
    "# Predicting with Machine Learning Model"
   ]
  },
  {
   "cell_type": "code",
   "execution_count": 6,
   "metadata": {},
   "outputs": [
    {
     "data": {
      "text/html": [
       "<div>\n",
       "<style scoped>\n",
       "    .dataframe tbody tr th:only-of-type {\n",
       "        vertical-align: middle;\n",
       "    }\n",
       "\n",
       "    .dataframe tbody tr th {\n",
       "        vertical-align: top;\n",
       "    }\n",
       "\n",
       "    .dataframe thead th {\n",
       "        text-align: right;\n",
       "    }\n",
       "</style>\n",
       "<table border=\"1\" class=\"dataframe\">\n",
       "  <thead>\n",
       "    <tr style=\"text-align: right;\">\n",
       "      <th></th>\n",
       "      <th>vehicle_class</th>\n",
       "      <th>coverage</th>\n",
       "      <th>renew_offer_type</th>\n",
       "      <th>employmentstatus</th>\n",
       "      <th>marital_status</th>\n",
       "      <th>education</th>\n",
       "      <th>number_of_policies</th>\n",
       "      <th>monthly_premium_auto</th>\n",
       "      <th>total_claim_amount</th>\n",
       "      <th>income</th>\n",
       "    </tr>\n",
       "  </thead>\n",
       "  <tbody>\n",
       "    <tr>\n",
       "      <th>0</th>\n",
       "      <td>Four-Door Car</td>\n",
       "      <td>Premium</td>\n",
       "      <td>Offer1</td>\n",
       "      <td>Employed</td>\n",
       "      <td>Single</td>\n",
       "      <td>Bachelor</td>\n",
       "      <td>2.0</td>\n",
       "      <td>500.0</td>\n",
       "      <td>5800.0</td>\n",
       "      <td>34000.0</td>\n",
       "    </tr>\n",
       "    <tr>\n",
       "      <th>1</th>\n",
       "      <td>Four-Door Car</td>\n",
       "      <td>Premium</td>\n",
       "      <td>Offer1</td>\n",
       "      <td>Employed</td>\n",
       "      <td>Single</td>\n",
       "      <td>Bachelor</td>\n",
       "      <td>1.0</td>\n",
       "      <td>100.0</td>\n",
       "      <td>2400.0</td>\n",
       "      <td>34000.0</td>\n",
       "    </tr>\n",
       "  </tbody>\n",
       "</table>\n",
       "</div>"
      ],
      "text/plain": [
       "   vehicle_class coverage renew_offer_type employmentstatus marital_status  \\\n",
       "0  Four-Door Car  Premium           Offer1         Employed         Single   \n",
       "1  Four-Door Car  Premium           Offer1         Employed         Single   \n",
       "\n",
       "  education  number_of_policies  monthly_premium_auto  total_claim_amount  \\\n",
       "0  Bachelor                 2.0                 500.0              5800.0   \n",
       "1  Bachelor                 1.0                 100.0              2400.0   \n",
       "\n",
       "    income  \n",
       "0  34000.0  \n",
       "1  34000.0  "
      ]
     },
     "execution_count": 6,
     "metadata": {},
     "output_type": "execute_result"
    }
   ],
   "source": [
    "single_test_data = pd.DataFrame({\n",
    "    'vehicle_class':['Four-Door Car', 'Four-Door Car'],\n",
    "    'coverage':['Premium', 'Premium'],\n",
    "    'renew_offer_type':['Offer1', 'Offer1'],\n",
    "    'employmentstatus':['Employed', 'Employed'],\n",
    "    'marital_status':['Single', 'Single'],\n",
    "    'education':['Bachelor', 'Bachelor'],\n",
    "    'number_of_policies':[2.0, 1.0],\n",
    "    'monthly_premium_auto':[500.0, 100.0],\n",
    "    'total_claim_amount':[5800.0, 2400.0],\n",
    "    'income':[34000.0, 34000.0]\n",
    "})\n",
    "single_test_data"
   ]
  },
  {
   "cell_type": "code",
   "execution_count": 7,
   "metadata": {},
   "outputs": [
    {
     "data": {
      "text/plain": [
       "array([18239.34838624,  3825.70643468])"
      ]
     },
     "execution_count": 7,
     "metadata": {},
     "output_type": "execute_result"
    }
   ],
   "source": [
    "# Predict single data with maximum extreme and minimum extreme\n",
    "with open(\"gb_model_final.pkl\", 'rb') as f:\n",
    "    loaded_model = pickle.load(f)\n",
    "\n",
    "loaded_model.predict(single_test_data)"
   ]
  },
  {
   "cell_type": "code",
   "execution_count": 9,
   "metadata": {},
   "outputs": [
    {
     "data": {
      "text/plain": [
       "(960,)"
      ]
     },
     "execution_count": 9,
     "metadata": {},
     "output_type": "execute_result"
    }
   ],
   "source": [
    "# Predict bulk data\n",
    "with open(\"gb_model_final.pkl\", 'rb') as f:\n",
    "    loaded_model = pickle.load(f)\n",
    "\n",
    "y_pred = loaded_model.predict(clv_test)\n",
    "y_pred.shape"
   ]
  },
  {
   "cell_type": "code",
   "execution_count": 10,
   "metadata": {},
   "outputs": [
    {
     "data": {
      "text/html": [
       "<div>\n",
       "<style scoped>\n",
       "    .dataframe tbody tr th:only-of-type {\n",
       "        vertical-align: middle;\n",
       "    }\n",
       "\n",
       "    .dataframe tbody tr th {\n",
       "        vertical-align: top;\n",
       "    }\n",
       "\n",
       "    .dataframe thead th {\n",
       "        text-align: right;\n",
       "    }\n",
       "</style>\n",
       "<table border=\"1\" class=\"dataframe\">\n",
       "  <thead>\n",
       "    <tr style=\"text-align: right;\">\n",
       "      <th></th>\n",
       "      <th>vehicle_class</th>\n",
       "      <th>coverage</th>\n",
       "      <th>renew_offer_type</th>\n",
       "      <th>employmentstatus</th>\n",
       "      <th>marital_status</th>\n",
       "      <th>education</th>\n",
       "      <th>number_of_policies</th>\n",
       "      <th>monthly_premium_auto</th>\n",
       "      <th>total_claim_amount</th>\n",
       "      <th>income</th>\n",
       "      <th>clv_pred</th>\n",
       "    </tr>\n",
       "  </thead>\n",
       "  <tbody>\n",
       "    <tr>\n",
       "      <th>0</th>\n",
       "      <td>Four-Door Car</td>\n",
       "      <td>Extended</td>\n",
       "      <td>Offer1</td>\n",
       "      <td>Retired</td>\n",
       "      <td>Divorced</td>\n",
       "      <td>College</td>\n",
       "      <td>8.0</td>\n",
       "      <td>76.0</td>\n",
       "      <td>364.8</td>\n",
       "      <td>26952.0</td>\n",
       "      <td>5739.755242</td>\n",
       "    </tr>\n",
       "    <tr>\n",
       "      <th>1</th>\n",
       "      <td>Two-Door Car</td>\n",
       "      <td>Extended</td>\n",
       "      <td>Offer1</td>\n",
       "      <td>Retired</td>\n",
       "      <td>Divorced</td>\n",
       "      <td>College</td>\n",
       "      <td>8.0</td>\n",
       "      <td>84.0</td>\n",
       "      <td>403.2</td>\n",
       "      <td>13688.0</td>\n",
       "      <td>6056.543474</td>\n",
       "    </tr>\n",
       "    <tr>\n",
       "      <th>2</th>\n",
       "      <td>Four-Door Car</td>\n",
       "      <td>Extended</td>\n",
       "      <td>Offer1</td>\n",
       "      <td>Retired</td>\n",
       "      <td>Divorced</td>\n",
       "      <td>High School or Below</td>\n",
       "      <td>4.0</td>\n",
       "      <td>84.0</td>\n",
       "      <td>604.8</td>\n",
       "      <td>12201.0</td>\n",
       "      <td>6078.054638</td>\n",
       "    </tr>\n",
       "    <tr>\n",
       "      <th>3</th>\n",
       "      <td>Four-Door Car</td>\n",
       "      <td>Extended</td>\n",
       "      <td>Offer1</td>\n",
       "      <td>Retired</td>\n",
       "      <td>Married</td>\n",
       "      <td>College</td>\n",
       "      <td>5.0</td>\n",
       "      <td>96.0</td>\n",
       "      <td>460.8</td>\n",
       "      <td>23091.0</td>\n",
       "      <td>7189.065238</td>\n",
       "    </tr>\n",
       "    <tr>\n",
       "      <th>4</th>\n",
       "      <td>Four-Door Car</td>\n",
       "      <td>Extended</td>\n",
       "      <td>Offer1</td>\n",
       "      <td>Retired</td>\n",
       "      <td>Single</td>\n",
       "      <td>Bachelor</td>\n",
       "      <td>2.0</td>\n",
       "      <td>96.0</td>\n",
       "      <td>460.8</td>\n",
       "      <td>16794.0</td>\n",
       "      <td>11821.093566</td>\n",
       "    </tr>\n",
       "  </tbody>\n",
       "</table>\n",
       "</div>"
      ],
      "text/plain": [
       "   vehicle_class  coverage renew_offer_type employmentstatus marital_status  \\\n",
       "0  Four-Door Car  Extended           Offer1          Retired       Divorced   \n",
       "1   Two-Door Car  Extended           Offer1          Retired       Divorced   \n",
       "2  Four-Door Car  Extended           Offer1          Retired       Divorced   \n",
       "3  Four-Door Car  Extended           Offer1          Retired        Married   \n",
       "4  Four-Door Car  Extended           Offer1          Retired         Single   \n",
       "\n",
       "              education  number_of_policies  monthly_premium_auto  \\\n",
       "0               College                 8.0                  76.0   \n",
       "1               College                 8.0                  84.0   \n",
       "2  High School or Below                 4.0                  84.0   \n",
       "3               College                 5.0                  96.0   \n",
       "4              Bachelor                 2.0                  96.0   \n",
       "\n",
       "   total_claim_amount   income      clv_pred  \n",
       "0               364.8  26952.0   5739.755242  \n",
       "1               403.2  13688.0   6056.543474  \n",
       "2               604.8  12201.0   6078.054638  \n",
       "3               460.8  23091.0   7189.065238  \n",
       "4               460.8  16794.0  11821.093566  "
      ]
     },
     "execution_count": 10,
     "metadata": {},
     "output_type": "execute_result"
    }
   ],
   "source": [
    "clv_test[\"clv_pred\"] = y_pred\n",
    "clv_test.head()"
   ]
  },
  {
   "cell_type": "markdown",
   "metadata": {},
   "source": [
    "# Importing back to BigQuery table"
   ]
  },
  {
   "cell_type": "code",
   "execution_count": 11,
   "metadata": {},
   "outputs": [
    {
     "name": "stdout",
     "output_type": "stream",
     "text": [
      "Loaded 960 rows into dti-ds.qemhal_dataset_012.clv_car_predicted\n"
     ]
    }
   ],
   "source": [
    "\n",
    "table_id = \"clv_car_predicted\"\n",
    "\n",
    "# construct a BigQuery client object\n",
    "client = bigquery.Client()\n",
    "\n",
    "table_full_id = f\"{client.project}.{dataset_id}.{table_id}\"\n",
    "\n",
    "clv_test.columns = ['_'.join(i.split(' ')) for i in clv_test.columns]\n",
    "\n",
    "# Loading the dataframe to bigquery table\n",
    "job = client.load_table_from_dataframe(clv_test, table_full_id)\n",
    "\n",
    "job.result()\n",
    "print(f\"Loaded {job.output_rows} rows into {table_full_id}\")"
   ]
  },
  {
   "cell_type": "code",
   "execution_count": null,
   "metadata": {},
   "outputs": [],
   "source": []
  }
 ],
 "metadata": {
  "kernelspec": {
   "display_name": "clv-reg-env",
   "language": "python",
   "name": "python3"
  },
  "language_info": {
   "codemirror_mode": {
    "name": "ipython",
    "version": 3
   },
   "file_extension": ".py",
   "mimetype": "text/x-python",
   "name": "python",
   "nbconvert_exporter": "python",
   "pygments_lexer": "ipython3",
   "version": "3.11.9"
  }
 },
 "nbformat": 4,
 "nbformat_minor": 2
}
